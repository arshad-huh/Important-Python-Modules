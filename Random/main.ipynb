{
 "cells": [
  {
   "cell_type": "markdown",
   "metadata": {},
   "source": [
    "# Random Module (Psuedo-Random)"
   ]
  },
  {
   "cell_type": "markdown",
   "metadata": {},
   "source": [
    "- random()"
   ]
  },
  {
   "cell_type": "code",
   "execution_count": 9,
   "metadata": {},
   "outputs": [
    {
     "name": "stdout",
     "output_type": "stream",
     "text": [
      "0.046934656158901134\n"
     ]
    }
   ],
   "source": [
    "import random\n",
    "\n",
    "random_float = random.random()\n",
    "\n",
    "print(random_float)             \n",
    "# returns a random float between 0 and 1."
   ]
  },
  {
   "cell_type": "markdown",
   "metadata": {},
   "source": [
    "- randint(a, b)"
   ]
  },
  {
   "cell_type": "code",
   "execution_count": 8,
   "metadata": {},
   "outputs": [
    {
     "name": "stdout",
     "output_type": "stream",
     "text": [
      "17\n"
     ]
    }
   ],
   "source": [
    "import random\n",
    "\n",
    "random_integer = random.randint(5, 18)\n",
    "\n",
    "print(random_integer)\n",
    "# returns a random integer between a and b (inclusive)."
   ]
  },
  {
   "cell_type": "markdown",
   "metadata": {},
   "source": [
    "- randrange(start, stop, step)"
   ]
  },
  {
   "cell_type": "code",
   "execution_count": 7,
   "metadata": {},
   "outputs": [
    {
     "name": "stdout",
     "output_type": "stream",
     "text": [
      "1\n"
     ]
    }
   ],
   "source": [
    "import random \n",
    "\n",
    "random_number = random.randrange(1, 100, 10)\n",
    "\n",
    "print(random_number)\n",
    "# generates a random integer chosen from the specified range."
   ]
  },
  {
   "cell_type": "markdown",
   "metadata": {},
   "source": [
    "- uniform(a, b)"
   ]
  },
  {
   "cell_type": "code",
   "execution_count": 6,
   "metadata": {},
   "outputs": [
    {
     "name": "stdout",
     "output_type": "stream",
     "text": [
      "1.6843666466171816\n"
     ]
    }
   ],
   "source": [
    "import random \n",
    "\n",
    "random_float1 = random.uniform(1.0, 7.0)\n",
    "print(random_float1)\n",
    "# returns a random float between a and b range(including a but excluding b)."
   ]
  },
  {
   "cell_type": "markdown",
   "metadata": {},
   "source": [
    "- choice(seq)"
   ]
  },
  {
   "cell_type": "code",
   "execution_count": 49,
   "metadata": {},
   "outputs": [
    {
     "name": "stdout",
     "output_type": "stream",
     "text": [
      "banana\n"
     ]
    }
   ],
   "source": [
    "import random \n",
    "\n",
    "fruits = ['apple', 'banana', 'orange']\n",
    "random_fruit = random.choice(fruits)\n",
    "\n",
    "print(random_fruit)\n",
    "# returns a randomly chosen element from the given sequence."
   ]
  },
  {
   "cell_type": "markdown",
   "metadata": {},
   "source": [
    "- shuffle(lst)"
   ]
  },
  {
   "cell_type": "code",
   "execution_count": 62,
   "metadata": {},
   "outputs": [
    {
     "name": "stdout",
     "output_type": "stream",
     "text": [
      "['9', 'A', '3', '5', 'Q', '8', 'K', '7', '6', '2', '10', 'J', '4']\n"
     ]
    }
   ],
   "source": [
    "import random \n",
    "\n",
    "cards = ['2', '3', '4', '5', '6', '7', '8', '9', '10', 'J', 'Q', 'K', 'A']\n",
    "random.shuffle(cards)  # no need to assign a variable\n",
    "\n",
    "print(cards)\n",
    "# shuffles the elements of a list in place."
   ]
  },
  {
   "cell_type": "markdown",
   "metadata": {},
   "source": [
    "- sample(population, k) "
   ]
  },
  {
   "cell_type": "code",
   "execution_count": 79,
   "metadata": {},
   "outputs": [
    {
     "name": "stdout",
     "output_type": "stream",
     "text": [
      "['9', 'K', '7', '8', '3']\n"
     ]
    }
   ],
   "source": [
    "# Random Sample Without Replacement\n",
    "\n",
    "import random\n",
    "\n",
    "deck = ['2', '3', '4', '5', '6', '7', '8', '9', '10', 'J', 'Q', 'K', 'A']\n",
    "hand = random.sample(deck, 5)\n",
    "\n",
    "print(hand)\n",
    "# returns a list with k unique elements randomly chosen from the given population."
   ]
  },
  {
   "cell_type": "markdown",
   "metadata": {},
   "source": [
    "- choices(population, weights=None, k=1)"
   ]
  },
  {
   "cell_type": "code",
   "execution_count": 113,
   "metadata": {},
   "outputs": [
    {
     "name": "stdout",
     "output_type": "stream",
     "text": [
      "['red', 'blue', 'red']\n"
     ]
    }
   ],
   "source": [
    "# Random Choices with Replacement \n",
    "\n",
    "import random\n",
    "\n",
    "colors = ['red', 'blue', 'green']\n",
    "selected_colors = random.choices(colors, weights=[2, 1, 1], k=3)\n",
    "\n",
    "print(selected_colors)\n",
    "# returns a list with k elements randomly chosen from the given population, allowing for duplicates. Weights can be assigned to influence the selection probability. "
   ]
  },
  {
   "cell_type": "markdown",
   "metadata": {},
   "source": [
    "- seed()"
   ]
  },
  {
   "cell_type": "code",
   "execution_count": 120,
   "metadata": {},
   "outputs": [
    {
     "name": "stdout",
     "output_type": "stream",
     "text": [
      "3\n"
     ]
    }
   ],
   "source": [
    "import random\n",
    "\n",
    "random.seed(6)\n",
    "random_num = random.randrange(2, 10)\n",
    "print(random_num)"
   ]
  },
  {
   "cell_type": "code",
   "execution_count": 125,
   "metadata": {},
   "outputs": [
    {
     "name": "stdout",
     "output_type": "stream",
     "text": [
      "3\n"
     ]
    }
   ],
   "source": [
    "random.seed(6)\n",
    "random_num2 = random.randrange(2, 10)\n",
    "print(random_num2)"
   ]
  },
  {
   "cell_type": "code",
   "execution_count": 126,
   "metadata": {},
   "outputs": [
    {
     "name": "stdout",
     "output_type": "stream",
     "text": [
      "3\n"
     ]
    }
   ],
   "source": [
    "random.seed(6)\n",
    "random_num3 = random.randrange(2, 10)\n",
    "print(random_num3)"
   ]
  },
  {
   "cell_type": "code",
   "execution_count": null,
   "metadata": {},
   "outputs": [],
   "source": [
    "# initializes the random number generator with a seed. Setting a seed ensures reproducibility."
   ]
  },
  {
   "cell_type": "markdown",
   "metadata": {},
   "source": [
    "- gauss(mu, sigma)"
   ]
  },
  {
   "cell_type": "code",
   "execution_count": 131,
   "metadata": {},
   "outputs": [
    {
     "name": "stdout",
     "output_type": "stream",
     "text": [
      "-1.6593737913302278\n"
     ]
    }
   ],
   "source": [
    "import random\n",
    "\n",
    "random_number = random.gauss(0, 1)\n",
    "\n",
    "print(random_number)\n",
    "# generates a random float from a normal distribution with mean mu and standard deviation sigma."
   ]
  }
 ],
 "metadata": {
  "kernelspec": {
   "display_name": "Python 3",
   "language": "python",
   "name": "python3"
  },
  "language_info": {
   "codemirror_mode": {
    "name": "ipython",
    "version": 3
   },
   "file_extension": ".py",
   "mimetype": "text/x-python",
   "name": "python",
   "nbconvert_exporter": "python",
   "pygments_lexer": "ipython3",
   "version": "3.12.0"
  }
 },
 "nbformat": 4,
 "nbformat_minor": 2
}
