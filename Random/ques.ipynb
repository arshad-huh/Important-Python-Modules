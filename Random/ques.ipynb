{
 "cells": [
  {
   "cell_type": "markdown",
   "metadata": {},
   "source": [
    "### Question 1: Simulating a Coin Toss Game"
   ]
  },
  {
   "cell_type": "markdown",
   "metadata": {},
   "source": [
    "Problem:\n",
    "\n",
    "Create a simulation of a simple coin toss game. The user should guess \"Heads\" or \"Tails,\" and the program should simulate the coin toss. Provide feedback on whether the user guessed correctly."
   ]
  },
  {
   "cell_type": "code",
   "execution_count": 8,
   "metadata": {},
   "outputs": [
    {
     "name": "stdout",
     "output_type": "stream",
     "text": [
      "Sorry, the coin landed on Tails. Try again!\n"
     ]
    }
   ],
   "source": [
    "import random\n",
    "\n",
    "def coin_toss_game():\n",
    "\n",
    "    user_input = input(\"\"\"\n",
    "                       Guess 'Heads' or 'Tails'\n",
    "                       1. Press 'H' for Heads\n",
    "                       2. Press 'T' for Tails\n",
    "                       --->  \"\"\").lower()\n",
    "    \n",
    "    if user_input == \"t\":\n",
    "        user_input = \"Tails\"\n",
    "    else:\n",
    "        user_input = \"Heads\"\n",
    "\n",
    "\n",
    "    coin = [\"Heads\", \"Tails\"]\n",
    "    toss_coin = random.choice(coin)\n",
    "\n",
    "    if user_input == toss_coin:\n",
    "        print(f\"Congratulations! The coin landed on {toss_coin}. You guessed correctly!\")\n",
    "    else:\n",
    "        print(f\"Sorry, the coin landed on {toss_coin}. Try again!\")\n",
    "\n",
    "# Running the game...   \n",
    "coin_toss_game()\n"
   ]
  },
  {
   "cell_type": "markdown",
   "metadata": {},
   "source": [
    "### Question 2: Monty Hall Problem Simulation"
   ]
  },
  {
   "cell_type": "markdown",
   "metadata": {},
   "source": [
    "Problem:\n",
    "\n",
    "Simulate the Monty Hall problem. In this game, a contestant chooses one of three doors. Behind one door is a car, and behind the other two are goats. After the contestant makes their choice, the host reveals one of the doors with a goat. The contestant is then given the option to switch their choice. Run the simulation and calculate the probability of winning with and without switching."
   ]
  },
  {
   "cell_type": "code",
   "execution_count": null,
   "metadata": {},
   "outputs": [],
   "source": [
    "import random\n",
    "\n",
    "def monty_hall_simulation(num_trials):\n",
    "    stay_wins = 0\n",
    "    switch_wins = 0\n",
    "\n",
    "    for _ in range(num_trials):\n",
    "        # Place the car and goats behind the doors\n",
    "        doors = ['goat', 'goat', 'car']\n",
    "        random.shuffle(doors)\n",
    "\n",
    "        # Contestant makes initial choice\n",
    "        contestant_choice = random.choice([0, 1, 2])\n",
    "\n",
    "        # Host reveals a door with a goat\n",
    "        doors_without_contestant = [i for i in range(3) if i != contestant_choice and doors[i] == 'goat']\n",
    "        door_revealed = random.choice(doors_without_contestant)\n",
    "\n",
    "        # Contestant switches their choice\n",
    "        remaining_doors = [i for i in range(3) if i != contestant_choice and i != door_revealed]\n",
    "        contestant_choice_after_switch = remaining_doors[0]\n",
    "\n",
    "        # Check outcomes\n",
    "        stay_wins += doors[contestant_choice] == 'car'\n",
    "        switch_wins += doors[contestant_choice_after_switch] == 'car'\n",
    "\n",
    "    stay_probability = stay_wins / num_trials\n",
    "    switch_probability = switch_wins / num_trials\n",
    "\n",
    "    print(f\"Probability of winning by staying: {stay_probability:.2%}\")\n",
    "    print(f\"Probability of winning by switching: {switch_probability:.2%}\")\n",
    "\n",
    "# Run the simulation with 10,000 trials\n",
    "monty_hall_simulation(10000)\n"
   ]
  },
  {
   "cell_type": "markdown",
   "metadata": {},
   "source": [
    "### Question 3: Creating a Password Generator"
   ]
  },
  {
   "cell_type": "markdown",
   "metadata": {},
   "source": [
    "Problem:\n",
    "\n",
    "Write a function to generate a random password. The password should have a specified length and include a mix of uppercase letters, lowercase letters, digits, and special characters."
   ]
  },
  {
   "cell_type": "code",
   "execution_count": null,
   "metadata": {},
   "outputs": [],
   "source": [
    "import random\n",
    "import string\n",
    "\n",
    "def generate_random_password(length):\n",
    "    # Define character sets\n",
    "    uppercase_letters = string.ascii_uppercase\n",
    "    lowercase_letters = string.ascii_lowercase\n",
    "    digits = string.digits\n",
    "    special_characters = string.punctuation\n",
    "\n",
    "    # Ensure minimum length for each category\n",
    "    if length < 4:\n",
    "        raise ValueError(\"Password length must be at least 4.\")\n",
    "\n",
    "    # Choose at least one character from each category\n",
    "    password = [random.choice(uppercase_letters),\n",
    "                random.choice(lowercase_letters),\n",
    "                random.choice(digits),\n",
    "                random.choice(special_characters)]\n",
    "\n",
    "    # Fill the remaining length with random characters\n",
    "    remaining_length = length - 4\n",
    "    all_characters = uppercase_letters + lowercase_letters + digits + special_characters\n",
    "    password.extend(random.choice(all_characters) for _ in range(remaining_length))\n",
    "\n",
    "    # Shuffle the password to mix the categories\n",
    "    random.shuffle(password)\n",
    "\n",
    "    # Convert the list to a string\n",
    "    return ''.join(password)\n",
    "\n",
    "# Generate a random password with length 8\n",
    "password = generate_random_password(8)\n",
    "print(f\"Generated Password: {password}\")\n"
   ]
  }
 ],
 "metadata": {
  "kernelspec": {
   "display_name": "Python 3",
   "language": "python",
   "name": "python3"
  },
  "language_info": {
   "codemirror_mode": {
    "name": "ipython",
    "version": 3
   },
   "file_extension": ".py",
   "mimetype": "text/x-python",
   "name": "python",
   "nbconvert_exporter": "python",
   "pygments_lexer": "ipython3",
   "version": "3.12.0"
  }
 },
 "nbformat": 4,
 "nbformat_minor": 2
}
